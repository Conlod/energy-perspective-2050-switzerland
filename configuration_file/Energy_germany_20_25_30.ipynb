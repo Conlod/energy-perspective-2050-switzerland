{
 "cells": [
  {
   "cell_type": "code",
   "execution_count": 38,
   "metadata": {},
   "outputs": [],
   "source": [
    "import brightway2 as bw\n",
    "import bw2io as bi\n",
    "import os\n",
    "import numpy as np\n",
    "import pandas as pd\n",
    "import bw2data as bd\n",
    "from premise import NewDatabase\n",
    "from datapackage import Package\n"
   ]
  },
  {
   "cell_type": "code",
   "execution_count": 36,
   "metadata": {},
   "outputs": [],
   "source": [
    "bi.create_core_migrations()"
   ]
  },
  {
   "cell_type": "code",
   "execution_count": 39,
   "metadata": {},
   "outputs": [
    {
     "name": "stderr",
     "output_type": "stream",
     "text": [
      "Writing activities to SQLite3 database:\n"
     ]
    },
    {
     "name": "stdout",
     "output_type": "stream",
     "text": [
      "Applying strategy: normalize_units\n",
      "Applying strategy: drop_unspecified_subcategories\n",
      "Applying strategy: ensure_categories_are_tuples\n",
      "Applied 3 strategies in 0.01 seconds\n",
      "Vacuuming database \n"
     ]
    },
    {
     "name": "stderr",
     "output_type": "stream",
     "text": [
      "0% [##############################] 100% | ETA: 00:00:00\n",
      "Total time elapsed: 00:00:01\n"
     ]
    },
    {
     "name": "stdout",
     "output_type": "stream",
     "text": [
      "Title: Writing activities to SQLite3 database:\n",
      "  Started: 10/27/2022 20:08:29\n",
      "  Finished: 10/27/2022 20:08:30\n",
      "  Total time elapsed: 00:00:01\n",
      "  CPU %: 98.60\n",
      "  Memory %: 22.19\n",
      "Created database: biosphere3\n"
     ]
    }
   ],
   "source": [
    "bi.create_default_biosphere3()"
   ]
  },
  {
   "cell_type": "code",
   "execution_count": 40,
   "metadata": {},
   "outputs": [
    {
     "name": "stdout",
     "output_type": "stream",
     "text": [
      "Extracting XML data from 19565 datasets\n",
      "Extracted 19565 datasets in 118.88 seconds\n",
      "Applying strategy: normalize_units\n",
      "Applying strategy: update_ecoinvent_locations\n",
      "Applying strategy: remove_zero_amount_coproducts\n",
      "Applying strategy: remove_zero_amount_inputs_with_no_activity\n",
      "Applying strategy: remove_unnamed_parameters\n",
      "Applying strategy: es2_assign_only_product_with_amount_as_reference_product\n",
      "Applying strategy: assign_single_product_as_activity\n",
      "Applying strategy: create_composite_code\n",
      "Applying strategy: drop_unspecified_subcategories\n",
      "Applying strategy: fix_ecoinvent_flows_pre35\n",
      "Applying strategy: drop_temporary_outdated_biosphere_flows\n",
      "Applying strategy: link_biosphere_by_flow_uuid\n",
      "Applying strategy: link_internal_technosphere_by_composite_code\n",
      "Applying strategy: delete_exchanges_missing_activity\n",
      "Applying strategy: delete_ghost_exchanges\n",
      "Applying strategy: remove_uncertainty_from_negative_loss_exchanges\n",
      "Applying strategy: fix_unreasonably_high_lognormal_uncertainties\n",
      "Applying strategy: set_lognormal_loc_value\n",
      "Applying strategy: convert_activity_parameters_to_list\n",
      "Applying strategy: add_cpc_classification_from_single_reference_product\n",
      "Applying strategy: delete_none_synonyms\n",
      "Applied 21 strategies in 14.55 seconds\n"
     ]
    },
    {
     "name": "stderr",
     "output_type": "stream",
     "text": [
      "Writing activities to SQLite3 database:\n"
     ]
    },
    {
     "name": "stdout",
     "output_type": "stream",
     "text": [
      "19565 datasets\n",
      "629959 exchanges\n",
      "0 unlinked exchanges\n",
      "  \n"
     ]
    },
    {
     "name": "stderr",
     "output_type": "stream",
     "text": [
      "0% [##############################] 100% | ETA: 00:00:00\n",
      "Total time elapsed: 00:02:08\n"
     ]
    },
    {
     "name": "stdout",
     "output_type": "stream",
     "text": [
      "Title: Writing activities to SQLite3 database:\n",
      "  Started: 10/27/2022 20:11:11\n",
      "  Finished: 10/27/2022 20:13:19\n",
      "  Total time elapsed: 00:02:08\n",
      "  CPU %: 88.80\n",
      "  Memory %: 22.29\n",
      "Created database: ei_3.8_cutoff\n"
     ]
    },
    {
     "data": {
      "text/plain": [
       "Brightway2 SQLiteBackend: ei_3.8_cutoff"
      ]
     },
     "execution_count": 40,
     "metadata": {},
     "output_type": "execute_result"
    }
   ],
   "source": [
    "ei = \"/Users/conlod/dbs/ecoinvent_3.8_cutoff/datasets\"\n",
    "ei = bw.SingleOutputEcospold2Importer(ei, \"ei_3.8_cutoff\")\n",
    "ei.apply_strategies()\n",
    "ei.statistics()\n",
    "ei.write_database()"
   ]
  },
  {
   "cell_type": "code",
   "execution_count": null,
   "metadata": {},
   "outputs": [],
   "source": [
    "bi.BW2Package.export_obj(bd.Database(\"the db\"), folder=\".\", filename=\"the db\")"
   ]
  },
  {
   "cell_type": "code",
   "execution_count": 3,
   "metadata": {},
   "outputs": [],
   "source": [
    "bw.projects.set_current(\"Practice\")"
   ]
  },
  {
   "cell_type": "code",
   "execution_count": 2,
   "metadata": {},
   "outputs": [
    {
     "data": {
      "text/plain": [
       "Brightway2 projects manager with 6 objects:\n",
       "\tPractice\n",
       "\tbw_project_conlod\n",
       "\tdatabase demo\n",
       "\tdefault\n",
       "\tei38-teaching\n",
       "\teidl_demo\n",
       "Use `projects.report()` to get a report on all projects."
      ]
     },
     "execution_count": 2,
     "metadata": {},
     "output_type": "execute_result"
    }
   ],
   "source": [
    "bw.projects"
   ]
  },
  {
   "cell_type": "code",
   "execution_count": 4,
   "metadata": {},
   "outputs": [],
   "source": [
    "eidb = bw.Database('Practice')"
   ]
  },
  {
   "cell_type": "code",
   "execution_count": 34,
   "metadata": {},
   "outputs": [
    {
     "data": {
      "text/plain": [
       "Databases dictionary with 1 object(s):\n",
       "\tbiosphere3"
      ]
     },
     "execution_count": 34,
     "metadata": {},
     "output_type": "execute_result"
    }
   ],
   "source": [
    "bi.databases"
   ]
  },
  {
   "cell_type": "code",
   "execution_count": 80,
   "metadata": {},
   "outputs": [],
   "source": [
    "fp = r\"C:/Users/conlod/Autumn_school/heat_Germany_20_25_30/datapackage.json\"\n",
    "heat = Package(fp)"
   ]
  },
  {
   "cell_type": "code",
   "execution_count": 81,
   "metadata": {},
   "outputs": [
    {
     "name": "stdout",
     "output_type": "stream",
     "text": [
      "premise v.(1, 3, 6)\n",
      "+------------------------------------------------------------------+\n",
      "| Warning                                                          |\n",
      "+------------------------------------------------------------------+\n",
      "| Because some of the scenarios can yield LCI databases            |\n",
      "| containing net negative emission technologies (NET),             |\n",
      "| it is advised to account for biogenic CO2 flows when calculating |\n",
      "| Global Warming potential indicators.                             |\n",
      "| `premise_gwp` provides characterization factors for such flows.  |\n",
      "| It also provides factors for hydrogen emissions to air.          |\n",
      "|                                                                  |\n",
      "| Within your bw2 project:                                         |\n",
      "| from premise_gwp import add_premise_gwp                          |\n",
      "| add_premise_gwp()                                                |\n",
      "+------------------------------------------------------------------+\n",
      "+--------------------------------+----------------------------------+\n",
      "| Utils functions                | Description                      |\n",
      "+--------------------------------+----------------------------------+\n",
      "| clear_cache()                  | Clears the cache folder. Useful  |\n",
      "|                                | when updating `premise`or        |\n",
      "|                                | encountering issues with         |\n",
      "|                                | inventories.                     |\n",
      "+--------------------------------+----------------------------------+\n",
      "| get_regions_definition(model)  | Retrieves the list of countries  |\n",
      "|                                | for each region of the model.    |\n",
      "+--------------------------------+----------------------------------+\n",
      "| ndb.NewDatabase(...)           | Generates a summary of the most  |\n",
      "| ndb.generate_scenario_report() | important scenarios' variables.  |\n",
      "+--------------------------------+----------------------------------+\n",
      "Keep uncertainty data?\n",
      "NewDatabase(..., keep_uncertainty_data=True)\n",
      "\n",
      "Hide these messages?\n",
      "NewDatabase(..., quiet=True)\n",
      "\n",
      "//////////////////// EXTRACTING SOURCE DATABASE ////////////////////\n",
      "Done!\n",
      "\n",
      "////////////////// IMPORTING DEFAULT INVENTORIES ///////////////////\n",
      "Done!\n",
      "\n",
      "/////////////////////// EXTRACTING IAM DATA ////////////////////////\n",
      "Done!\n"
     ]
    }
   ],
   "source": [
    "ndb = NewDatabase(\n",
    "            scenarios = [\n",
    "                {\"model\":\"remind\", \"pathway\":\"SSP2-Npi\", \"year\":2020,},\n",
    "                {\"model\":\"remind\", \"pathway\":\"SSP2-Npi\", \"year\":2025,},\n",
    "                {\"model\":\"remind\", \"pathway\":\"SSP2-Npi\", \"year\":2030,},\n",
    "            ],        \n",
    "            source_db=\"ei_3.8_cutoff\",\n",
    "            source_version=\"3.8\",\n",
    "            key= 'tUePmX_S5B8ieZkkM7WUU2CnO8SmShwmAeWK9x2rTFo=',\n",
    "            external_scenarios=[\n",
    "                heat, # <-- list datapackage objects here\n",
    "            ] \n",
    "        )"
   ]
  },
  {
   "cell_type": "code",
   "execution_count": 82,
   "metadata": {},
   "outputs": [
    {
     "name": "stdout",
     "output_type": "stream",
     "text": [
      "\n",
      "//////////////// IMPORTING USER-DEFINED INVENTORIES ////////////////\n",
      "Extracted 1 worksheets in 0.00 seconds\n",
      "Create custom markets.\n",
      "\n",
      "//////////////// IMPORTING USER-DEFINED INVENTORIES ////////////////\n",
      "Extracted 1 worksheets in 0.00 seconds\n",
      "Create custom markets.\n",
      "\n",
      "//////////////// IMPORTING USER-DEFINED INVENTORIES ////////////////\n",
      "Extracted 1 worksheets in 0.00 seconds\n",
      "Create custom markets.\n",
      "Log file of exchanges saved under C:\\Users\\conlod\\Miniconda3\\envs\\bw\\Lib\\site-packages\\premise\\data\\logs.\n"
     ]
    }
   ],
   "source": [
    "#ndb.update_electricity()\n",
    "ndb.update_external_scenario()"
   ]
  },
  {
   "cell_type": "code",
   "execution_count": 83,
   "metadata": {},
   "outputs": [
    {
     "name": "stdout",
     "output_type": "stream",
     "text": [
      "market for electricity, high voltage, DE_20_25_30 DE\n",
      "-------------------------------------\n",
      "market for electricity, high voltage, DE_20_25_30 DE 1\n",
      "electricity production, hydro, run-of-river DE 0.02465449066914967\n",
      "electricity production, hydro, reservoir, alpine region RoW 0.0003323117306283479\n",
      "electricity production, nuclear, pressure water reactor DE 0.14613505830621193\n",
      "electricity production, photovoltaic DE 0.03257777454709262\n",
      "electricity production, wind, 1-3MW turbine, onshore DE 0.5079870512979278\n",
      "heat and power co-generation, biogas, gas engine DE 0.09671825999633736\n",
      "electricity production, wind, 1-3MW turbine, offshore DE 0.03198241551710297\n",
      "electricity production, natural gas, combined cycle power plant DE 0.15961263793554942\n",
      "transmission network construction, long-distance UCTE 3.17e-10\n",
      "transmission network construction, electricity, high voltage RoW 6.58e-09\n",
      "Dinitrogen monoxide None 5e-06\n",
      "Ozone None 4.16e-06\n",
      "\n",
      "market for electricity, medium voltage, DE_20_25_30 DE\n",
      "-------------------------------------\n",
      "market for electricity, medium voltage, DE_20_25_30 DE 1\n",
      "market for electricity, high voltage, DE_20_25_30 DE 1.06951871657754\n",
      "market for sulfur hexafluoride, liquid RER 5.7754010695187156e-08\n",
      "transmission network construction, electricity, medium voltage RoW 1.9893048128342244e-08\n",
      "Sulfur hexafluoride None 5.7754010695187156e-08\n",
      "\n",
      "market for electricity, low voltage, DE_20_25_30 DE\n",
      "-------------------------------------\n",
      "market for electricity, low voltage, DE_20_25_30 DE 1\n",
      "market for electricity, medium voltage, DE_20_25_30 DE 1.027749229188078\n",
      "market for sulfur hexafluoride, liquid RER 3.0729701952723535e-09\n",
      "distribution network construction, electricity, low voltage RoW 8.982528263103803e-08\n",
      "Sulfur hexafluoride None 3.0729701952723535e-09\n",
      "\n",
      "market for process heat, DE_20_25_30 DE\n",
      "-------------------------------------\n",
      "market for process heat, DE_20_25_30 DE 1\n",
      "heat production, at hard coal industrial furnace 1-10MW Europe without Switzerland 0.04309604695690395\n",
      "heat production, light fuel oil, at industrial furnace 1MW Europe without Switzerland 0.044305454955694545\n",
      "heat production, natural gas, at industrial furnace >100kW Europe without Switzerland 0.3208722046791278\n",
      "heat and power co-generation, wood chips, 6667 kW, state-of-the-art 2014 DE 0.13321100586678897\n",
      "heat and power co-generation, natural gas, conventional power plant, 100MW electrical DE 0.15452794884547205\n",
      "Heat, from electricity DE 0.2978123137021877\n",
      "heat production, biomethane, at boiler condensing modulating <100kW Europe without Switzerland 0.006175024993824974\n",
      "\n"
     ]
    }
   ],
   "source": [
    "temp_db = ndb.scenarios[-1][\"database\"]\n",
    "\n",
    "for act in temp_db:\n",
    "    if \"DE_20_25_30\" in act[\"name\"]:\n",
    "        print(act[\"name\"], act[\"location\"])\n",
    "        print(\"-------------------------------------\")\n",
    "        for exc in act[\"exchanges\"]:\n",
    "            print(exc[\"name\"], exc.get(\"location\"), exc[\"amount\"])\n",
    "        print(\"\")"
   ]
  },
  {
   "cell_type": "code",
   "execution_count": 84,
   "metadata": {},
   "outputs": [
    {
     "name": "stdout",
     "output_type": "stream",
     "text": [
      "heat production, biomethane, at boiler condensing modulating <100kW Europe without Switzerland\n",
      "-------------------------------------\n",
      "heat production, biomethane, at boiler condensing modulating <100kW Europe without Switzerland 1.0\n",
      "hydrogen production, gaseous, 25 bar, from electrolysis EUR 0.007091807692307656\n",
      "market group for electricity, low voltage Europe without Switzerland 0.00272439999999999\n",
      "market for gas boiler GLO 6.46799999999998e-07\n",
      "Nitrate None 1.274e-07\n",
      "Methane, non-fossil None 1.95999999999999e-06\n",
      "Benzo(a)pyrene None 9.79999999999996e-12\n",
      "Nitrite None 2.93999999999999e-09\n",
      "Sulfur dioxide None 4.89999999999998e-07\n",
      "Benzene None 3.91999999999999e-07\n",
      "Sulfate None 4.89999999999998e-08\n",
      "Propionic acid None 1.95999999999999e-08\n",
      "Toluene None 1.95999999999999e-07\n",
      "Carbon monoxide, non-fossil None 5.78199999999998e-06\n",
      "Particulates, < 2.5 um None 9.79999999999996e-08\n",
      "Sulfite None 4.89999999999998e-08\n",
      "Dinitrogen monoxide None 4.89999999999998e-07\n",
      "Formaldehyde None 9.79999999999996e-08\n",
      "Mercury None 2.93999999999999e-11\n",
      "Nitrogen oxides None 9.70199999999996e-06\n",
      "Dioxins, measured as 2,3,7,8-tetrachlorodibenzo-p-dioxin None 0.0\n",
      "Acetic acid None 1.46999999999999e-07\n",
      "Pentane None 1.176e-06\n",
      "PAH, polycyclic aromatic hydrocarbons None 9.79999999999996e-09\n",
      "Acetaldehyde None 9.79999999999996e-10\n",
      "Propane None 1.95999999999999e-07\n",
      "Butane None 6.85999999999997e-07\n",
      "Carbon dioxide, non-fossil None 0.0548799999999998\n",
      "\n"
     ]
    }
   ],
   "source": [
    "temp_db = ndb.scenarios[0][\"database\"]\n",
    "\n",
    "for act in temp_db:\n",
    "    if \"heat production, biomethane, at boiler condensing modulating\" in act[\"name\"] and act[\"location\"]==\"Europe without Switzerland\" and act[\"unit\"]==\"megajoule\":\n",
    "        print(act[\"name\"], act[\"location\"])\n",
    "        print(\"-------------------------------------\")\n",
    "        for exc in act[\"exchanges\"]:\n",
    "            print(exc[\"name\"], exc.get(\"location\"), exc[\"amount\"])\n",
    "        print(\"\")"
   ]
  },
  {
   "cell_type": "code",
   "execution_count": 85,
   "metadata": {},
   "outputs": [
    {
     "name": "stdout",
     "output_type": "stream",
     "text": [
      "Write new database(s) to Brightway2.\n",
      "Prepare database 1.\n",
      "- check for duplicates...\n",
      "- check for values format...\n",
      "- relinking exchanges...\n",
      "Done!\n",
      "20853 datasets\n",
      "648724 exchanges\n",
      "0 unlinked exchanges\n",
      "  \n"
     ]
    },
    {
     "name": "stderr",
     "output_type": "stream",
     "text": [
      "Writing activities to SQLite3 database:\n",
      "0% [##############################] 100% | ETA: 00:00:00\n",
      "Total time elapsed: 00:02:06\n"
     ]
    },
    {
     "name": "stdout",
     "output_type": "stream",
     "text": [
      "Title: Writing activities to SQLite3 database:\n",
      "  Started: 10/27/2022 21:42:46\n",
      "  Finished: 10/27/2022 21:44:53\n",
      "  Total time elapsed: 00:02:06\n",
      "  CPU %: 90.70\n",
      "  Memory %: 39.34\n",
      "Created database: ecoinvent_remind_SSP2-Npi_2020\n",
      "Prepare database 2.\n",
      "- check for duplicates...\n",
      "- check for values format...\n",
      "- relinking exchanges...\n",
      "Done!\n",
      "20853 datasets\n",
      "648725 exchanges\n",
      "0 unlinked exchanges\n",
      "  \n"
     ]
    },
    {
     "name": "stderr",
     "output_type": "stream",
     "text": [
      "Writing activities to SQLite3 database:\n",
      "0% [##############################] 100% | ETA: 00:00:00\n",
      "Total time elapsed: 00:01:41\n"
     ]
    },
    {
     "name": "stdout",
     "output_type": "stream",
     "text": [
      "Title: Writing activities to SQLite3 database:\n",
      "  Started: 10/27/2022 21:51:19\n",
      "  Finished: 10/27/2022 21:53:01\n",
      "  Total time elapsed: 00:01:41\n",
      "  CPU %: 87.70\n",
      "  Memory %: 40.68\n",
      "Created database: ecoinvent_remind_SSP2-Npi_2025\n",
      "Prepare database 3.\n",
      "- check for duplicates...\n",
      "- check for values format...\n",
      "- relinking exchanges...\n",
      "Done!\n",
      "20853 datasets\n",
      "648723 exchanges\n",
      "0 unlinked exchanges\n",
      "  \n"
     ]
    },
    {
     "name": "stderr",
     "output_type": "stream",
     "text": [
      "Writing activities to SQLite3 database:\n",
      "0% [##############################] 100% | ETA: 00:00:00\n",
      "Total time elapsed: 00:01:50\n"
     ]
    },
    {
     "name": "stdout",
     "output_type": "stream",
     "text": [
      "Title: Writing activities to SQLite3 database:\n",
      "  Started: 10/27/2022 21:59:38\n",
      "  Finished: 10/27/2022 22:01:28\n",
      "  Total time elapsed: 00:01:50\n",
      "  CPU %: 88.60\n",
      "  Memory %: 39.35\n",
      "Created database: ecoinvent_remind_SSP2-Npi_2030\n"
     ]
    }
   ],
   "source": [
    "ndb.write_db_to_brightway()"
   ]
  }
 ],
 "metadata": {
  "kernelspec": {
   "display_name": "Python 3.10.6",
   "language": "python",
   "name": "python3"
  },
  "language_info": {
   "codemirror_mode": {
    "name": "ipython",
    "version": 3
   },
   "file_extension": ".py",
   "mimetype": "text/x-python",
   "name": "python",
   "nbconvert_exporter": "python",
   "pygments_lexer": "ipython3",
   "version": "3.10.6"
  },
  "orig_nbformat": 4,
  "vscode": {
   "interpreter": {
    "hash": "b333659351820798462d9e6160e0e3973b561c63688f43777292441b4039aac8"
   }
  }
 },
 "nbformat": 4,
 "nbformat_minor": 2
}
